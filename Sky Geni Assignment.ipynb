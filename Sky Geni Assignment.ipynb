{
 "cells": [
  {
   "cell_type": "code",
   "execution_count": 1,
   "id": "760276c9",
   "metadata": {},
   "outputs": [],
   "source": [
    "import pandas as pd"
   ]
  },
  {
   "cell_type": "code",
   "execution_count": 2,
   "id": "496b5d1c",
   "metadata": {},
   "outputs": [],
   "source": [
    "df1 = pd.read_csv(\"C:\\\\Users\\\\DELL\\\\Downloads\\\\finanical_information.csv\")\n",
    "df2 = pd.read_csv(\"C:\\\\Users\\\\DELL\\\\Downloads\\\\industry_client_details.csv\")\n",
    "df3 = pd.read_csv(\"C:\\\\Users\\\\DELL\\\\Downloads\\\\payment_information.csv\")\n",
    "df4 = pd.read_csv(\"C:\\\\Users\\\\DELL\\\\Downloads\\\\subscription_information.csv\") #To run this notebook again, need to change the path with corresponding file path in local system"
   ]
  },
  {
   "cell_type": "code",
   "execution_count": 3,
   "id": "10c20aaa",
   "metadata": {},
   "outputs": [
    {
     "data": {
      "text/html": [
       "<div>\n",
       "<style scoped>\n",
       "    .dataframe tbody tr th:only-of-type {\n",
       "        vertical-align: middle;\n",
       "    }\n",
       "\n",
       "    .dataframe tbody tr th {\n",
       "        vertical-align: top;\n",
       "    }\n",
       "\n",
       "    .dataframe thead th {\n",
       "        text-align: right;\n",
       "    }\n",
       "</style>\n",
       "<table border=\"1\" class=\"dataframe\">\n",
       "  <thead>\n",
       "    <tr style=\"text-align: right;\">\n",
       "      <th></th>\n",
       "      <th>Unnamed: 0</th>\n",
       "      <th>start_date</th>\n",
       "      <th>end_date</th>\n",
       "      <th>inflation_rate</th>\n",
       "      <th>gdp_growth_rate</th>\n",
       "    </tr>\n",
       "  </thead>\n",
       "  <tbody>\n",
       "    <tr>\n",
       "      <th>0</th>\n",
       "      <td>0</td>\n",
       "      <td>2018-01-01</td>\n",
       "      <td>2018-03-31</td>\n",
       "      <td>5.77</td>\n",
       "      <td>3.51</td>\n",
       "    </tr>\n",
       "    <tr>\n",
       "      <th>1</th>\n",
       "      <td>1</td>\n",
       "      <td>2018-04-01</td>\n",
       "      <td>2018-06-30</td>\n",
       "      <td>1.17</td>\n",
       "      <td>2.15</td>\n",
       "    </tr>\n",
       "    <tr>\n",
       "      <th>2</th>\n",
       "      <td>2</td>\n",
       "      <td>2018-07-01</td>\n",
       "      <td>2018-09-30</td>\n",
       "      <td>1.56</td>\n",
       "      <td>1.82</td>\n",
       "    </tr>\n",
       "    <tr>\n",
       "      <th>3</th>\n",
       "      <td>3</td>\n",
       "      <td>2018-10-01</td>\n",
       "      <td>2018-12-31</td>\n",
       "      <td>2.78</td>\n",
       "      <td>2.43</td>\n",
       "    </tr>\n",
       "    <tr>\n",
       "      <th>4</th>\n",
       "      <td>4</td>\n",
       "      <td>2019-01-01</td>\n",
       "      <td>2019-03-31</td>\n",
       "      <td>6.91</td>\n",
       "      <td>3.44</td>\n",
       "    </tr>\n",
       "  </tbody>\n",
       "</table>\n",
       "</div>"
      ],
      "text/plain": [
       "   Unnamed: 0  start_date    end_date  inflation_rate  gdp_growth_rate\n",
       "0           0  2018-01-01  2018-03-31            5.77             3.51\n",
       "1           1  2018-04-01  2018-06-30            1.17             2.15\n",
       "2           2  2018-07-01  2018-09-30            1.56             1.82\n",
       "3           3  2018-10-01  2018-12-31            2.78             2.43\n",
       "4           4  2019-01-01  2019-03-31            6.91             3.44"
      ]
     },
     "execution_count": 3,
     "metadata": {},
     "output_type": "execute_result"
    }
   ],
   "source": [
    "df1.head() # Check the data of the tables"
   ]
  },
  {
   "cell_type": "code",
   "execution_count": 4,
   "id": "5d834632",
   "metadata": {},
   "outputs": [
    {
     "data": {
      "text/html": [
       "<div>\n",
       "<style scoped>\n",
       "    .dataframe tbody tr th:only-of-type {\n",
       "        vertical-align: middle;\n",
       "    }\n",
       "\n",
       "    .dataframe tbody tr th {\n",
       "        vertical-align: top;\n",
       "    }\n",
       "\n",
       "    .dataframe thead th {\n",
       "        text-align: right;\n",
       "    }\n",
       "</style>\n",
       "<table border=\"1\" class=\"dataframe\">\n",
       "  <thead>\n",
       "    <tr style=\"text-align: right;\">\n",
       "      <th></th>\n",
       "      <th>client_id</th>\n",
       "      <th>company_size</th>\n",
       "      <th>industry</th>\n",
       "      <th>location</th>\n",
       "    </tr>\n",
       "  </thead>\n",
       "  <tbody>\n",
       "    <tr>\n",
       "      <th>0</th>\n",
       "      <td>4280387012</td>\n",
       "      <td>Large</td>\n",
       "      <td>Finance Lending</td>\n",
       "      <td>Mumbai</td>\n",
       "    </tr>\n",
       "    <tr>\n",
       "      <th>1</th>\n",
       "      <td>2095513148</td>\n",
       "      <td>Small</td>\n",
       "      <td>Finance Lending</td>\n",
       "      <td>Chennai</td>\n",
       "    </tr>\n",
       "    <tr>\n",
       "      <th>2</th>\n",
       "      <td>7225516707</td>\n",
       "      <td>Medium</td>\n",
       "      <td>Finance Lending</td>\n",
       "      <td>New Delhi</td>\n",
       "    </tr>\n",
       "    <tr>\n",
       "      <th>3</th>\n",
       "      <td>8093537819</td>\n",
       "      <td>Large</td>\n",
       "      <td>Block Chain</td>\n",
       "      <td>Mumbai</td>\n",
       "    </tr>\n",
       "    <tr>\n",
       "      <th>4</th>\n",
       "      <td>4387541014</td>\n",
       "      <td>Medium</td>\n",
       "      <td>Hyper Local</td>\n",
       "      <td>Banglore</td>\n",
       "    </tr>\n",
       "  </tbody>\n",
       "</table>\n",
       "</div>"
      ],
      "text/plain": [
       "    client_id company_size         industry   location\n",
       "0  4280387012        Large  Finance Lending     Mumbai\n",
       "1  2095513148        Small  Finance Lending    Chennai\n",
       "2  7225516707       Medium  Finance Lending  New Delhi\n",
       "3  8093537819        Large      Block Chain     Mumbai\n",
       "4  4387541014       Medium      Hyper Local   Banglore"
      ]
     },
     "execution_count": 4,
     "metadata": {},
     "output_type": "execute_result"
    }
   ],
   "source": [
    "df2.head()"
   ]
  },
  {
   "cell_type": "code",
   "execution_count": 5,
   "id": "f4504b59",
   "metadata": {},
   "outputs": [
    {
     "data": {
      "text/html": [
       "<div>\n",
       "<style scoped>\n",
       "    .dataframe tbody tr th:only-of-type {\n",
       "        vertical-align: middle;\n",
       "    }\n",
       "\n",
       "    .dataframe tbody tr th {\n",
       "        vertical-align: top;\n",
       "    }\n",
       "\n",
       "    .dataframe thead th {\n",
       "        text-align: right;\n",
       "    }\n",
       "</style>\n",
       "<table border=\"1\" class=\"dataframe\">\n",
       "  <thead>\n",
       "    <tr style=\"text-align: right;\">\n",
       "      <th></th>\n",
       "      <th>client_id</th>\n",
       "      <th>payment_date</th>\n",
       "      <th>amount_paid</th>\n",
       "      <th>payment_method</th>\n",
       "    </tr>\n",
       "  </thead>\n",
       "  <tbody>\n",
       "    <tr>\n",
       "      <th>0</th>\n",
       "      <td>6292156167</td>\n",
       "      <td>9/16/2019</td>\n",
       "      <td>447.0</td>\n",
       "      <td>Bank Transfer</td>\n",
       "    </tr>\n",
       "    <tr>\n",
       "      <th>1</th>\n",
       "      <td>7462725203</td>\n",
       "      <td>5/21/2018</td>\n",
       "      <td>379.7</td>\n",
       "      <td>Bank Transfer</td>\n",
       "    </tr>\n",
       "    <tr>\n",
       "      <th>2</th>\n",
       "      <td>4698004907</td>\n",
       "      <td>9/11/2021</td>\n",
       "      <td>435.1</td>\n",
       "      <td>Check</td>\n",
       "    </tr>\n",
       "    <tr>\n",
       "      <th>3</th>\n",
       "      <td>3510240337</td>\n",
       "      <td>12/7/2020</td>\n",
       "      <td>413.1</td>\n",
       "      <td>Check</td>\n",
       "    </tr>\n",
       "    <tr>\n",
       "      <th>4</th>\n",
       "      <td>7501599785</td>\n",
       "      <td>3/4/2019</td>\n",
       "      <td>61.1</td>\n",
       "      <td>Bank Transfer</td>\n",
       "    </tr>\n",
       "  </tbody>\n",
       "</table>\n",
       "</div>"
      ],
      "text/plain": [
       "    client_id payment_date  amount_paid payment_method\n",
       "0  6292156167    9/16/2019        447.0  Bank Transfer\n",
       "1  7462725203    5/21/2018        379.7  Bank Transfer\n",
       "2  4698004907    9/11/2021        435.1          Check\n",
       "3  3510240337    12/7/2020        413.1          Check\n",
       "4  7501599785     3/4/2019         61.1  Bank Transfer"
      ]
     },
     "execution_count": 5,
     "metadata": {},
     "output_type": "execute_result"
    }
   ],
   "source": [
    "df3.head()"
   ]
  },
  {
   "cell_type": "code",
   "execution_count": 6,
   "id": "db8b766d",
   "metadata": {},
   "outputs": [
    {
     "data": {
      "text/html": [
       "<div>\n",
       "<style scoped>\n",
       "    .dataframe tbody tr th:only-of-type {\n",
       "        vertical-align: middle;\n",
       "    }\n",
       "\n",
       "    .dataframe tbody tr th {\n",
       "        vertical-align: top;\n",
       "    }\n",
       "\n",
       "    .dataframe thead th {\n",
       "        text-align: right;\n",
       "    }\n",
       "</style>\n",
       "<table border=\"1\" class=\"dataframe\">\n",
       "  <thead>\n",
       "    <tr style=\"text-align: right;\">\n",
       "      <th></th>\n",
       "      <th>client_id</th>\n",
       "      <th>subscription_type</th>\n",
       "      <th>start_date</th>\n",
       "      <th>end_date</th>\n",
       "      <th>renewed</th>\n",
       "    </tr>\n",
       "  </thead>\n",
       "  <tbody>\n",
       "    <tr>\n",
       "      <th>0</th>\n",
       "      <td>1131383004</td>\n",
       "      <td>Yearly</td>\n",
       "      <td>2020-11-11</td>\n",
       "      <td>2021-11-11</td>\n",
       "      <td>False</td>\n",
       "    </tr>\n",
       "    <tr>\n",
       "      <th>1</th>\n",
       "      <td>4309371709</td>\n",
       "      <td>Monthly</td>\n",
       "      <td>2021-05-24</td>\n",
       "      <td>2021-06-23</td>\n",
       "      <td>True</td>\n",
       "    </tr>\n",
       "    <tr>\n",
       "      <th>2</th>\n",
       "      <td>3183675157</td>\n",
       "      <td>Yearly</td>\n",
       "      <td>2021-12-25</td>\n",
       "      <td>2022-12-25</td>\n",
       "      <td>True</td>\n",
       "    </tr>\n",
       "    <tr>\n",
       "      <th>3</th>\n",
       "      <td>5371694837</td>\n",
       "      <td>Monthly</td>\n",
       "      <td>2020-03-14</td>\n",
       "      <td>2020-04-13</td>\n",
       "      <td>True</td>\n",
       "    </tr>\n",
       "    <tr>\n",
       "      <th>4</th>\n",
       "      <td>5157113076</td>\n",
       "      <td>Monthly</td>\n",
       "      <td>2019-11-07</td>\n",
       "      <td>2019-12-07</td>\n",
       "      <td>False</td>\n",
       "    </tr>\n",
       "  </tbody>\n",
       "</table>\n",
       "</div>"
      ],
      "text/plain": [
       "    client_id subscription_type  start_date    end_date  renewed\n",
       "0  1131383004            Yearly  2020-11-11  2021-11-11    False\n",
       "1  4309371709           Monthly  2021-05-24  2021-06-23     True\n",
       "2  3183675157            Yearly  2021-12-25  2022-12-25     True\n",
       "3  5371694837           Monthly  2020-03-14  2020-04-13     True\n",
       "4  5157113076           Monthly  2019-11-07  2019-12-07    False"
      ]
     },
     "execution_count": 6,
     "metadata": {},
     "output_type": "execute_result"
    }
   ],
   "source": [
    "df4.head()"
   ]
  },
  {
   "cell_type": "code",
   "execution_count": 7,
   "id": "eaa5107c",
   "metadata": {},
   "outputs": [
    {
     "name": "stdout",
     "output_type": "stream",
     "text": [
      "Unnamed: 0         0\n",
      "start_date         0\n",
      "end_date           0\n",
      "inflation_rate     0\n",
      "gdp_growth_rate    0\n",
      "dtype: int64\n"
     ]
    }
   ],
   "source": [
    "print(df1.isna().sum())  # Checking for any empty values in all the tables"
   ]
  },
  {
   "cell_type": "code",
   "execution_count": 8,
   "id": "b0bfb57f",
   "metadata": {},
   "outputs": [
    {
     "name": "stdout",
     "output_type": "stream",
     "text": [
      "client_id       0\n",
      "company_size    0\n",
      "industry        0\n",
      "location        0\n",
      "dtype: int64\n"
     ]
    }
   ],
   "source": [
    "print(df2.isna().sum())"
   ]
  },
  {
   "cell_type": "code",
   "execution_count": 9,
   "id": "057141af",
   "metadata": {},
   "outputs": [
    {
     "name": "stdout",
     "output_type": "stream",
     "text": [
      "client_id         0\n",
      "payment_date      0\n",
      "amount_paid       0\n",
      "payment_method    0\n",
      "dtype: int64\n"
     ]
    }
   ],
   "source": [
    "print(df3.isna().sum())"
   ]
  },
  {
   "cell_type": "code",
   "execution_count": 10,
   "id": "9c7e993d",
   "metadata": {},
   "outputs": [
    {
     "name": "stdout",
     "output_type": "stream",
     "text": [
      "client_id            0\n",
      "subscription_type    0\n",
      "start_date           0\n",
      "end_date             0\n",
      "renewed              0\n",
      "dtype: int64\n"
     ]
    }
   ],
   "source": [
    "print(df4.isna().sum())"
   ]
  },
  {
   "cell_type": "code",
   "execution_count": 12,
   "id": "4ff6dd76",
   "metadata": {},
   "outputs": [
    {
     "data": {
      "text/plain": [
       "Block Chain        25\n",
       "Finance Lending    22\n",
       "Gaming             22\n",
       "Hyper Local        20\n",
       "AI                 11\n",
       "Name: industry, dtype: int64"
      ]
     },
     "execution_count": 12,
     "metadata": {},
     "output_type": "execute_result"
    }
   ],
   "source": [
    "df2['industry'].value_counts() # Get the no of values for the column industry to get the count of the different industry clients"
   ]
  },
  {
   "cell_type": "markdown",
   "id": "7240a78b",
   "metadata": {},
   "source": [
    "1.As Per the above result, We can observe that there are 25 block chain clients and 22 finance lending clients for the organization"
   ]
  },
  {
   "cell_type": "code",
   "execution_count": 13,
   "id": "96875032",
   "metadata": {},
   "outputs": [],
   "source": [
    "renewed_clients = df4[df4['renewed'] == True] # get the clients who are renewing their subscription"
   ]
  },
  {
   "cell_type": "code",
   "execution_count": 14,
   "id": "18d2ae36",
   "metadata": {},
   "outputs": [],
   "source": [
    "renewed_clients_information = pd.merge(renewed_clients,df2,how='inner',on='client_id') # Join to the clients info dataframe"
   ]
  },
  {
   "cell_type": "code",
   "execution_count": 15,
   "id": "f13f9ebb",
   "metadata": {},
   "outputs": [
    {
     "data": {
      "text/html": [
       "<div>\n",
       "<style scoped>\n",
       "    .dataframe tbody tr th:only-of-type {\n",
       "        vertical-align: middle;\n",
       "    }\n",
       "\n",
       "    .dataframe tbody tr th {\n",
       "        vertical-align: top;\n",
       "    }\n",
       "\n",
       "    .dataframe thead th {\n",
       "        text-align: right;\n",
       "    }\n",
       "</style>\n",
       "<table border=\"1\" class=\"dataframe\">\n",
       "  <thead>\n",
       "    <tr style=\"text-align: right;\">\n",
       "      <th></th>\n",
       "      <th>client_id</th>\n",
       "      <th>subscription_type</th>\n",
       "      <th>start_date</th>\n",
       "      <th>end_date</th>\n",
       "      <th>renewed</th>\n",
       "      <th>company_size</th>\n",
       "      <th>industry</th>\n",
       "      <th>location</th>\n",
       "    </tr>\n",
       "  </thead>\n",
       "  <tbody>\n",
       "    <tr>\n",
       "      <th>0</th>\n",
       "      <td>4309371709</td>\n",
       "      <td>Monthly</td>\n",
       "      <td>2021-05-24</td>\n",
       "      <td>2021-06-23</td>\n",
       "      <td>True</td>\n",
       "      <td>Large</td>\n",
       "      <td>Hyper Local</td>\n",
       "      <td>Hyderabad</td>\n",
       "    </tr>\n",
       "    <tr>\n",
       "      <th>1</th>\n",
       "      <td>3183675157</td>\n",
       "      <td>Yearly</td>\n",
       "      <td>2021-12-25</td>\n",
       "      <td>2022-12-25</td>\n",
       "      <td>True</td>\n",
       "      <td>Small</td>\n",
       "      <td>Gaming</td>\n",
       "      <td>Chennai</td>\n",
       "    </tr>\n",
       "    <tr>\n",
       "      <th>2</th>\n",
       "      <td>5371694837</td>\n",
       "      <td>Monthly</td>\n",
       "      <td>2020-03-14</td>\n",
       "      <td>2020-04-13</td>\n",
       "      <td>True</td>\n",
       "      <td>Large</td>\n",
       "      <td>AI</td>\n",
       "      <td>New Delhi</td>\n",
       "    </tr>\n",
       "    <tr>\n",
       "      <th>3</th>\n",
       "      <td>7896208406</td>\n",
       "      <td>Yearly</td>\n",
       "      <td>2022-02-24</td>\n",
       "      <td>2023-02-24</td>\n",
       "      <td>True</td>\n",
       "      <td>Small</td>\n",
       "      <td>Block Chain</td>\n",
       "      <td>New Delhi</td>\n",
       "    </tr>\n",
       "    <tr>\n",
       "      <th>4</th>\n",
       "      <td>4687291312</td>\n",
       "      <td>Yearly</td>\n",
       "      <td>2019-06-14</td>\n",
       "      <td>2020-06-13</td>\n",
       "      <td>True</td>\n",
       "      <td>Medium</td>\n",
       "      <td>Block Chain</td>\n",
       "      <td>New Delhi</td>\n",
       "    </tr>\n",
       "  </tbody>\n",
       "</table>\n",
       "</div>"
      ],
      "text/plain": [
       "    client_id subscription_type  start_date    end_date  renewed company_size  \\\n",
       "0  4309371709           Monthly  2021-05-24  2021-06-23     True        Large   \n",
       "1  3183675157            Yearly  2021-12-25  2022-12-25     True        Small   \n",
       "2  5371694837           Monthly  2020-03-14  2020-04-13     True        Large   \n",
       "3  7896208406            Yearly  2022-02-24  2023-02-24     True        Small   \n",
       "4  4687291312            Yearly  2019-06-14  2020-06-13     True       Medium   \n",
       "\n",
       "      industry   location  \n",
       "0  Hyper Local  Hyderabad  \n",
       "1       Gaming    Chennai  \n",
       "2           AI  New Delhi  \n",
       "3  Block Chain  New Delhi  \n",
       "4  Block Chain  New Delhi  "
      ]
     },
     "execution_count": 15,
     "metadata": {},
     "output_type": "execute_result"
    }
   ],
   "source": [
    "renewed_clients_information.head() # checking the table "
   ]
  },
  {
   "cell_type": "code",
   "execution_count": 16,
   "id": "19a34fab",
   "metadata": {},
   "outputs": [],
   "source": [
    "industry_wise_renewed_count = renewed_clients_information.pivot_table(values='renewed',index='industry',aggfunc='count') #Creating a pivot table for industry wise renewal"
   ]
  },
  {
   "cell_type": "code",
   "execution_count": 17,
   "id": "bed6c813",
   "metadata": {},
   "outputs": [],
   "source": [
    "industry_wise_renewed_count['renewal_rate'] = round((industry_wise_renewed_count['renewed']/industry_wise_renewed_count['renewed'].sum())*100,2)"
   ]
  },
  {
   "cell_type": "code",
   "execution_count": 18,
   "id": "2f8a9d5d",
   "metadata": {},
   "outputs": [
    {
     "name": "stdout",
     "output_type": "stream",
     "text": [
      "Gaming\n"
     ]
    }
   ],
   "source": [
    "print(industry_wise_renewed_count['renewal_rate'].idxmax()) # Calculating the renewal rate and get the industry which has the max renewal rate."
   ]
  },
  {
   "cell_type": "markdown",
   "id": "c1b17ee5",
   "metadata": {},
   "source": [
    "2. As per the above result, We can conclude that gaming industry has the highest renewal rate"
   ]
  },
  {
   "cell_type": "code",
   "execution_count": 19,
   "id": "3c5f5dba",
   "metadata": {},
   "outputs": [],
   "source": [
    "def get_quarter(date):     #Creating function to get quarter of the year\n",
    "    date=pd.to_datetime(date)\n",
    "    year=date.year\n",
    "    quarter = date.quarter\n",
    "    return f\"{year}-Q{quarter}\"\n",
    "    "
   ]
  },
  {
   "cell_type": "code",
   "execution_count": 20,
   "id": "afabfdcc",
   "metadata": {},
   "outputs": [],
   "source": [
    "client_payment_info = pd.merge(df3,df4,on='client_id',how='inner')[['client_id','payment_date','renewed']] # join payments and subscriptions table "
   ]
  },
  {
   "cell_type": "code",
   "execution_count": 21,
   "id": "4e8ed811",
   "metadata": {},
   "outputs": [],
   "source": [
    "client_payment_info['quarter'] = client_payment_info['payment_date'].apply(get_quarter) # create new quarter column for merged dataframe"
   ]
  },
  {
   "cell_type": "code",
   "execution_count": 22,
   "id": "2b678e7d",
   "metadata": {},
   "outputs": [],
   "source": [
    "df1['quarter'] = df1['start_date'].apply(get_quarter) # create quarter column for financial information"
   ]
  },
  {
   "cell_type": "code",
   "execution_count": 23,
   "id": "9e64f685",
   "metadata": {},
   "outputs": [],
   "source": [
    "inflation_rate_client_subscription = pd.merge(client_payment_info,df1,on='quarter',how='inner')[['client_id','payment_date','inflation_rate','renewed','quarter']]"
   ]
  },
  {
   "cell_type": "code",
   "execution_count": 24,
   "id": "3a09c78d",
   "metadata": {},
   "outputs": [],
   "source": [
    "inflation_rate_client_subscription_renewed = inflation_rate_client_subscription[inflation_rate_client_subscription['renewed'] == True]"
   ]
  },
  {
   "cell_type": "code",
   "execution_count": 25,
   "id": "a295a31b",
   "metadata": {},
   "outputs": [
    {
     "name": "stdout",
     "output_type": "stream",
     "text": [
      "4.44\n"
     ]
    }
   ],
   "source": [
    "average_inflation_rate = round(inflation_rate_client_subscription_renewed['inflation_rate'].mean(),2)\n",
    "print(average_inflation_rate)  #get only renewed subscriptions and calculation average of the inflation rate"
   ]
  },
  {
   "cell_type": "markdown",
   "id": "e186b81f",
   "metadata": {},
   "source": [
    "3. From the result, When the payments for the subscription are made the average inflation rate is 4.44"
   ]
  },
  {
   "cell_type": "code",
   "execution_count": 26,
   "id": "8311e6ee",
   "metadata": {},
   "outputs": [],
   "source": [
    "df3['payment_date'] = pd.to_datetime(df3['payment_date']) # convert payment date to datetime datatype"
   ]
  },
  {
   "cell_type": "code",
   "execution_count": 27,
   "id": "cb7fc848",
   "metadata": {},
   "outputs": [],
   "source": [
    "df3['year'] = df3['payment_date'].dt.year # Extract the year of date and create new column"
   ]
  },
  {
   "cell_type": "code",
   "execution_count": 28,
   "id": "7da79adb",
   "metadata": {},
   "outputs": [],
   "source": [
    "payment_info_stats = df3.pivot_table(values='amount_paid',index='year',columns='payment_method',aggfunc='median') # create a new stats table "
   ]
  },
  {
   "cell_type": "code",
   "execution_count": 29,
   "id": "b6e14371",
   "metadata": {
    "scrolled": true
   },
   "outputs": [
    {
     "data": {
      "text/html": [
       "<div>\n",
       "<style scoped>\n",
       "    .dataframe tbody tr th:only-of-type {\n",
       "        vertical-align: middle;\n",
       "    }\n",
       "\n",
       "    .dataframe tbody tr th {\n",
       "        vertical-align: top;\n",
       "    }\n",
       "\n",
       "    .dataframe thead th {\n",
       "        text-align: right;\n",
       "    }\n",
       "</style>\n",
       "<table border=\"1\" class=\"dataframe\">\n",
       "  <thead>\n",
       "    <tr style=\"text-align: right;\">\n",
       "      <th>payment_method</th>\n",
       "      <th>Bank Transfer</th>\n",
       "      <th>Check</th>\n",
       "      <th>Credit Card</th>\n",
       "    </tr>\n",
       "    <tr>\n",
       "      <th>year</th>\n",
       "      <th></th>\n",
       "      <th></th>\n",
       "      <th></th>\n",
       "    </tr>\n",
       "  </thead>\n",
       "  <tbody>\n",
       "    <tr>\n",
       "      <th>2018</th>\n",
       "      <td>281.65</td>\n",
       "      <td>216.6</td>\n",
       "      <td>229.15</td>\n",
       "    </tr>\n",
       "    <tr>\n",
       "      <th>2019</th>\n",
       "      <td>184.20</td>\n",
       "      <td>410.2</td>\n",
       "      <td>401.90</td>\n",
       "    </tr>\n",
       "    <tr>\n",
       "      <th>2020</th>\n",
       "      <td>225.10</td>\n",
       "      <td>413.1</td>\n",
       "      <td>285.25</td>\n",
       "    </tr>\n",
       "    <tr>\n",
       "      <th>2021</th>\n",
       "      <td>255.30</td>\n",
       "      <td>435.1</td>\n",
       "      <td>208.70</td>\n",
       "    </tr>\n",
       "    <tr>\n",
       "      <th>2022</th>\n",
       "      <td>196.50</td>\n",
       "      <td>275.5</td>\n",
       "      <td>326.20</td>\n",
       "    </tr>\n",
       "  </tbody>\n",
       "</table>\n",
       "</div>"
      ],
      "text/plain": [
       "payment_method  Bank Transfer  Check  Credit Card\n",
       "year                                             \n",
       "2018                   281.65  216.6       229.15\n",
       "2019                   184.20  410.2       401.90\n",
       "2020                   225.10  413.1       285.25\n",
       "2021                   255.30  435.1       208.70\n",
       "2022                   196.50  275.5       326.20"
      ]
     },
     "execution_count": 29,
     "metadata": {},
     "output_type": "execute_result"
    }
   ],
   "source": [
    "payment_info_stats # Final result "
   ]
  },
  {
   "cell_type": "markdown",
   "id": "c434259a",
   "metadata": {},
   "source": [
    "4.Above result represents the each year median amount received for each payment method"
   ]
  },
  {
   "cell_type": "code",
   "execution_count": null,
   "id": "b43d8d96",
   "metadata": {},
   "outputs": [],
   "source": []
  }
 ],
 "metadata": {
  "kernelspec": {
   "display_name": "Python 3 (ipykernel)",
   "language": "python",
   "name": "python3"
  },
  "language_info": {
   "codemirror_mode": {
    "name": "ipython",
    "version": 3
   },
   "file_extension": ".py",
   "mimetype": "text/x-python",
   "name": "python",
   "nbconvert_exporter": "python",
   "pygments_lexer": "ipython3",
   "version": "3.9.7"
  }
 },
 "nbformat": 4,
 "nbformat_minor": 5
}
